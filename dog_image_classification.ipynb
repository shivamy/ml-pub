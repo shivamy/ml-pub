{
 "cells": [
  {
   "cell_type": "markdown",
   "metadata": {},
   "source": [
    "### 1. Setup AWS Sagemaker and bucket with appropriate role"
   ]
  },
  {
   "cell_type": "code",
   "execution_count": 1,
   "metadata": {},
   "outputs": [],
   "source": [
    "# %%time\n",
    "import boto3\n",
    "import re\n",
    "from sagemaker import get_execution_role\n",
    "from sagemaker.amazon.amazon_estimator import get_image_uri\n",
    "\n",
    "role = get_execution_role()\n",
    "\n",
    "bucket='[BUCKET]' # Set this to your bucket name\n",
    "\n",
    "training_image = get_image_uri(boto3.Session().region_name, 'image-classification')\n",
    "# print(training_image)"
   ]
  },
  {
   "cell_type": "code",
   "execution_count": 2,
   "metadata": {},
   "outputs": [
    {
     "name": "stdout",
     "output_type": "stream",
     "text": []
    }
   ],
   "source": [
    "print(role)"
   ]
  },
  {
   "cell_type": "markdown",
   "metadata": {},
   "source": [
    "### 2. Prepare dataset \n",
    "###### Create an EC2 instance\n",
    "Perform this step outside the Jupyter notebook and we will be using this EC2 instance to download dogs images from Stanford website and create RecordIO files and then upload them to data lake\n",
    "\n",
    "First, install needed packages including pip, boto3, mxnet, opencv, im2rec.py\n",
    "\n",
    "Download images from http://vision.stanford.edu/aditya86/ImageNetDogs/images.tar and untar. The Images folder will have 20580 images. With im2rec the images can be grouped for training, validation and tests.  I used 80% for traninig, 19% for validation and remaining 1% for tests.\n",
    "The directory now should have 3 training (rec, lst, idx), 3 validation (rec, lst, idx) and 1 test (lst) files.\n",
    "\n",
    "And for more info on RecordIO see http://mesos.apache.org/documentation/latest/recordio/"
   ]
  },
  {
   "cell_type": "markdown",
   "metadata": {},
   "source": [
    "### 3. Upload the files to data lake"
   ]
  },
  {
   "cell_type": "code",
   "execution_count": 5,
   "metadata": {},
   "outputs": [],
   "source": [
    "# Upload the files to datalake and the tests files as well (needed at later time) from ec2."
   ]
  },
  {
   "cell_type": "markdown",
   "metadata": {},
   "source": [
    "### 4. Setup hyper parameters"
   ]
  },
  {
   "cell_type": "code",
   "execution_count": 6,
   "metadata": {},
   "outputs": [],
   "source": [
    "num_layers = 18\n",
    "image_shape = \"3,256,256\"\n",
    "num_training_samples = 16464\n",
    "num_classes = 120\n",
    "mini_batch_size =  128\n",
    "epochs = 6\n",
    "learning_rate = 0.01\n",
    "top_k=2\n",
    "use_pretrained_model = 1"
   ]
  },
  {
   "cell_type": "markdown",
   "metadata": {},
   "source": [
    "### 5. Built dogs name array from lst file"
   ]
  },
  {
   "cell_type": "code",
   "execution_count": 10,
   "metadata": {},
   "outputs": [
    {
     "name": "stdout",
     "output_type": "stream",
     "text": [
      "['12569', '72.000000', 'n02104365-schipperke/n02104365_6732.jpg']\n",
      "['2674', '14.000000', 'n02089078-black-and-tan_coonhound/n02089078_1842.jpg']\n",
      "['10471', '58.000000', 'n02099849-Chesapeake_Bay_retriever/n02099849_4646.jpg']\n",
      "['5888', '32.000000', 'n02093859-Kerry_blue_terrier/n02093859_2625.jpg']\n",
      "['15899', '93.000000', 'n02108551-Tibetan_mastiff/n02108551_1700.jpg']\n",
      "['14869', '87.000000', 'n02107574-Greater_Swiss_Mountain_dog/n02107574_1669.jpg']\n",
      "['17167', '100.000000', 'n02110627-affenpinscher/n02110627_8154.jpg']\n",
      "['8219', '45.000000', 'n02097047-miniature_schnauzer/n02097047_1721.jpg']\n",
      "['11249', '63.000000', 'n02101006-Gordon_setter/n02101006_6152.jpg']\n",
      "['13611', '79.000000', 'n02105855-Shetland_sheepdog/n02105855_13611.jpg']\n",
      "df shape: (16464, 2)\n",
      "Duplicates dropped. df shape: (120, 2)\n",
      "     idx             dog_name\n",
      "306    0            Chihuahua\n",
      "23     1     Japanese_spaniel\n",
      "132    2          Maltese_dog\n",
      "251    3             Pekinese\n",
      "113    4             Shih-Tzu\n",
      "35     5     Blenheim_spaniel\n",
      "260    6             papillon\n",
      "202    7          toy_terrier\n",
      "74     8  Rhodesian_ridgeback\n",
      "422    9         Afghan_hound\n"
     ]
    }
   ],
   "source": [
    "import pandas as pd\n",
    "import re\n",
    "\n",
    "remote_lst = 'dog_train.lst'\n",
    "local_lst = '/tmp/dogs_train.lst'\n",
    "s3 = boto3.resource('s3')\n",
    "s3.Bucket(bucket).download_file('stanford_dogs_2/'+remote_lst, local_lst)\n",
    "\n",
    "dog_lst = []\n",
    "with open(local_lst, 'r') as f:\n",
    "    for line in f:\n",
    "       dog_lst.append(line.split())\n",
    "\n",
    "df = pd.DataFrame(dog_lst) ;  \n",
    "\n",
    "df = df.drop(columns=0, axis=1) # drop first column\n",
    "df.columns = ['idx', 'dog_name']\n",
    "df['idx'] = df['idx'].apply(lambda x: int(float(x)))\n",
    "df['dog_name'] = df['dog_name'].apply(lambda x: re.match(r'\\s*n\\d+-(.*)\\/n\\d+.*jpg', x).group(1))\n",
    "print('df shape: ' + str(df.shape))\n",
    "\n",
    "df = df.drop_duplicates()\n",
    "print('Duplicates dropped. df shape: ' + str(df.shape))\n",
    "print(df.sort_values(by=['idx']).head(10))"
   ]
  },
  {
   "cell_type": "markdown",
   "metadata": {},
   "source": [
    "### 6. Setup Sagemaker"
   ]
  },
  {
   "cell_type": "code",
   "execution_count": 120,
   "metadata": {},
   "outputs": [
    {
     "name": "stdout",
     "output_type": "stream",
     "text": [
      "Training job name: stanford-dog-image-classification-2-2018-07-31-22-31-22\n",
      "\n",
      "Input Data Location: {'S3DataType': 'S3Prefix', 'S3Uri': 's3://[BUCKET]/stanford_dogs_2/train/', 'S3DataDistributionType': 'FullyReplicated'}\n",
      "CPU times: user 0 ns, sys: 0 ns, total: 0 ns\n",
      "Wall time: 3.6 ms\n"
     ]
    }
   ],
   "source": [
    "%%time\n",
    "# Use ml.p2.xlarge instance \n",
    "\n",
    "import time\n",
    "import boto3\n",
    "from time import gmtime, strftime\n",
    "\n",
    "\n",
    "s3 = boto3.client('s3')\n",
    "# create unique job name \n",
    "job_name_prefix = 'stanford-dog-image-classification-2'\n",
    "timestamp = time.strftime('-%Y-%m-%d-%H-%M-%S', time.gmtime())\n",
    "job_name = job_name_prefix + timestamp\n",
    "\n",
    "training_params = \\\n",
    "{\n",
    "    # specify the training docker image\n",
    "    \"AlgorithmSpecification\": {\n",
    "        \"TrainingImage\": training_image,\n",
    "        \"TrainingInputMode\": \"File\"\n",
    "    },\n",
    "    \"RoleArn\": role,\n",
    "    \"OutputDataConfig\": {\n",
    "        \"S3OutputPath\": 's3://{}/stanford_dogs_2/{}/output'.format(bucket, job_name_prefix)\n",
    "    },\n",
    "    \"ResourceConfig\": {\n",
    "        \"InstanceCount\": 1,\n",
    "        \"InstanceType\": \"ml.p2.xlarge\",\n",
    "        \"VolumeSizeInGB\": 10\n",
    "    },\n",
    "    \"TrainingJobName\": job_name,\n",
    "    \"HyperParameters\": {\n",
    "        \"image_shape\": image_shape,\n",
    "        \"num_layers\": str(num_layers),\n",
    "        \"num_training_samples\": str(num_training_samples),\n",
    "        \"num_classes\": str(num_classes),\n",
    "        \"mini_batch_size\": str(mini_batch_size),\n",
    "        \"epochs\": str(epochs),\n",
    "        \"learning_rate\": str(learning_rate),\n",
    "        \"use_pretrained_model\": str(use_pretrained_model)\n",
    "    },\n",
    "    \"StoppingCondition\": {\n",
    "        \"MaxRuntimeInSeconds\": 3600\n",
    "    },\n",
    "    \"InputDataConfig\": [\n",
    "        {\n",
    "            \"ChannelName\": \"train\",\n",
    "            \"DataSource\": {\n",
    "                \"S3DataSource\": {\n",
    "                    \"S3DataType\": \"S3Prefix\",\n",
    "                    \"S3Uri\": 's3://{}/stanford_dogs_2/train/'.format(bucket),\n",
    "                    \"S3DataDistributionType\": \"FullyReplicated\"\n",
    "                }\n",
    "            },\n",
    "            \"ContentType\": \"application/x-recordio\",\n",
    "            \"CompressionType\": \"None\"\n",
    "        },\n",
    "        {\n",
    "            \"ChannelName\": \"validation\",\n",
    "            \"DataSource\": {\n",
    "                \"S3DataSource\": {\n",
    "                    \"S3DataType\": \"S3Prefix\",\n",
    "                    \"S3Uri\": 's3://{}/stanford_dogs_2/validation/'.format(bucket),\n",
    "                    \"S3DataDistributionType\": \"FullyReplicated\"\n",
    "                }\n",
    "            },\n",
    "            \"ContentType\": \"application/x-recordio\",\n",
    "            \"CompressionType\": \"None\"\n",
    "        }\n",
    "    ]\n",
    "}\n",
    "print('Training job name: {}'.format(job_name))\n",
    "print('\\nInput Data Location: {}'.format(training_params['InputDataConfig'][0]['DataSource']['S3DataSource']))"
   ]
  },
  {
   "cell_type": "markdown",
   "metadata": {},
   "source": [
    "### 7. Create training job"
   ]
  },
  {
   "cell_type": "code",
   "execution_count": 121,
   "metadata": {},
   "outputs": [
    {
     "name": "stdout",
     "output_type": "stream",
     "text": [
      "Training job current status: InProgress\n",
      "Training job ended with status: Completed\n"
     ]
    }
   ],
   "source": [
    "# create the Amazon SageMaker training job and wait\n",
    "sagemaker = boto3.client(service_name='sagemaker')\n",
    "sagemaker.create_training_job(**training_params)\n",
    "\n",
    "status = sagemaker.describe_training_job(TrainingJobName=job_name)['TrainingJobStatus']\n",
    "print('Training job current status: {}'.format(status))\n",
    "\n",
    "try:\n",
    "    sagemaker.get_waiter('training_job_completed_or_stopped').wait(TrainingJobName=job_name)\n",
    "    training_info = sagemaker.describe_training_job(TrainingJobName=job_name)\n",
    "    status = training_info['TrainingJobStatus']\n",
    "    print(\"Training job ended with status: \" + status)\n",
    "except:\n",
    "    print('Training failed to start')\n",
    "    message = sagemaker.describe_training_job(TrainingJobName=job_name)['FailureReason']\n",
    "    print('Training failed with the following error: {}'.format(message))"
   ]
  },
  {
   "cell_type": "code",
   "execution_count": 122,
   "metadata": {},
   "outputs": [
    {
     "name": "stdout",
     "output_type": "stream",
     "text": [
      "Training job ended with status: Completed\n",
      "\n",
      "training_info:\n",
      "{\n",
      "    \"AlgorithmSpecification\": {\n",
      "        \"TrainingImage\": \"811284229777.dkr.ecr.us-east-1.amazonaws.com/image-classification:1\",\n",
      "        \"TrainingInputMode\": \"File\"\n",
      "    },\n",
      "    \"CreationTime\": \"2018-07-31 22:31:33.027000+00:00\",\n",
      "    \"HyperParameters\": {\n",
      "        \"epochs\": \"6\",\n",
      "        \"image_shape\": \"3,256,256\",\n",
      "        \"learning_rate\": \"0.01\",\n",
      "        \"mini_batch_size\": \"128\",\n",
      "        \"num_classes\": \"120\",\n",
      "        \"num_layers\": \"18\",\n",
      "        \"num_training_samples\": \"16464\",\n",
      "        \"use_pretrained_model\": \"1\"\n",
      "    },\n",
      "    \"InputDataConfig\": [\n",
      "        {\n",
      "            \"...snipped...\": \"...yes...\"\n",
      "        }\n",
      "    ],\n",
      "    \"...more snipping...\": \"...yes...\",\n",
      "}\n"
     ]
    }
   ],
   "source": [
    "import json\n",
    "\n",
    "training_info = sagemaker.describe_training_job(TrainingJobName=job_name)\n",
    "status = training_info['TrainingJobStatus']\n",
    "print(\"Training job ended with status: \" + status)\n",
    "# print(training_info)\n",
    "print('\\ntraining_info:\\n' + json.dumps(training_info, indent=4, sort_keys=True, default=str))"
   ]
  },
  {
   "cell_type": "markdown",
   "metadata": {},
   "source": [
    "### 8. Create model"
   ]
  },
  {
   "cell_type": "code",
   "execution_count": 123,
   "metadata": {},
   "outputs": [
    {
     "name": "stdout",
     "output_type": "stream",
     "text": [
      "image-classification-model-2018-07-31-22-55-47\n",
      "s3://[BUCKET]/stanford_dogs_2/stanford-dog-image-classification-2/output/stanford-dog-image-classification-2-2018-07-31-22-31-22/output/model.tar.gz\n",
      "arn:aws:sagemaker:us-east-1:[ID]:model/image-classification-model-2018-07-31-22-55-47\n",
      "CPU times: user 40 ms, sys: 0 ns, total: 40 ms\n",
      "Wall time: 308 ms\n"
     ]
    }
   ],
   "source": [
    "%%time\n",
    "# Create Model...\n",
    "\n",
    "import boto3\n",
    "from time import gmtime, strftime\n",
    "\n",
    "sage = boto3.Session().client(service_name='sagemaker') \n",
    "\n",
    "timestamp = time.strftime('-%Y-%m-%d-%H-%M-%S', time.gmtime())\n",
    "model_name=\"image-classification-model\" + timestamp\n",
    "print(model_name)\n",
    "info = sage.describe_training_job(TrainingJobName=job_name)\n",
    "model_data = info['ModelArtifacts']['S3ModelArtifacts']\n",
    "print(model_data)\n",
    "\n",
    "hosting_image = get_image_uri(boto3.Session().region_name, 'image-classification')\n",
    "\n",
    "primary_container = {\n",
    "    'Image': hosting_image,\n",
    "    'ModelDataUrl': model_data,\n",
    "}\n",
    "\n",
    "create_model_response = sage.create_model(\n",
    "    ModelName = model_name,\n",
    "    ExecutionRoleArn = role,\n",
    "    PrimaryContainer = primary_container)\n",
    "\n",
    "print(create_model_response['ModelArn'])"
   ]
  },
  {
   "cell_type": "markdown",
   "metadata": {},
   "source": [
    "### 9. Create endpoint"
   ]
  },
  {
   "cell_type": "code",
   "execution_count": 124,
   "metadata": {},
   "outputs": [
    {
     "name": "stdout",
     "output_type": "stream",
     "text": [
      "Endpoint configuration name: stanford-dog-image-classification-2-epc--2018-07-31-22-56-03\n",
      "Endpoint configuration arn:  arn:aws:sagemaker:us-east-1:[ID]:endpoint-config/stanford-dog-image-classification-2-epc--2018-07-31-22-56-03\n"
     ]
    }
   ],
   "source": [
    "# Create endpoint configuration....\n",
    "\n",
    "from time import gmtime, strftime\n",
    "\n",
    "timestamp = time.strftime('-%Y-%m-%d-%H-%M-%S', time.gmtime())\n",
    "endpoint_config_name = job_name_prefix + '-epc-' + timestamp\n",
    "endpoint_config_response = sage.create_endpoint_config(\n",
    "    EndpointConfigName = endpoint_config_name,\n",
    "    ProductionVariants=[{\n",
    "        'InstanceType': 'ml.m5.large',  #'ml.p2.xlarge',\n",
    "        'InitialInstanceCount':1,\n",
    "        'ModelName':model_name,\n",
    "        'VariantName':'AllTraffic'}])\n",
    "\n",
    "print('Endpoint configuration name: {}'.format(endpoint_config_name))\n",
    "print('Endpoint configuration arn:  {}'.format(endpoint_config_response['EndpointConfigArn']))"
   ]
  },
  {
   "cell_type": "code",
   "execution_count": 125,
   "metadata": {},
   "outputs": [
    {
     "name": "stdout",
     "output_type": "stream",
     "text": [
      "Endpoint name: stanford-dog-image-classification-2-ep--2018-07-31-22-56-23\n",
      "EndpointArn = arn:aws:sagemaker:us-east-1:[ID]:endpoint/stanford-dog-image-classification-2-ep--2018-07-31-22-56-23\n",
      "CPU times: user 12 ms, sys: 0 ns, total: 12 ms\n",
      "Wall time: 214 ms\n"
     ]
    }
   ],
   "source": [
    "%%time\n",
    "# Create endpoint....\n",
    "\n",
    "import time\n",
    "\n",
    "timestamp = time.strftime('-%Y-%m-%d-%H-%M-%S', time.gmtime())\n",
    "endpoint_name = job_name_prefix + '-ep-' + timestamp\n",
    "print('Endpoint name: {}'.format(endpoint_name))\n",
    "\n",
    "endpoint_params = {\n",
    "    'EndpointName': endpoint_name,\n",
    "    'EndpointConfigName': endpoint_config_name,\n",
    "}\n",
    "endpoint_response = sagemaker.create_endpoint(**endpoint_params)\n",
    "print('EndpointArn = {}'.format(endpoint_response['EndpointArn']))"
   ]
  },
  {
   "cell_type": "code",
   "execution_count": 126,
   "metadata": {},
   "outputs": [
    {
     "name": "stdout",
     "output_type": "stream",
     "text": [
      "EndpointStatus = Creating\n",
      "Arn: arn:aws:sagemaker:us-east-1:[ID]:endpoint/stanford-dog-image-classification-2-ep--2018-07-31-22-56-23\n",
      "Create endpoint ended with status: InService\n"
     ]
    }
   ],
   "source": [
    "# get the status of the endpoint\n",
    "\n",
    "response = sagemaker.describe_endpoint(EndpointName=endpoint_name)\n",
    "status = response['EndpointStatus']\n",
    "print('EndpointStatus = {}'.format(status))\n",
    "    \n",
    "try:\n",
    "    sagemaker.get_waiter('endpoint_in_service').wait(EndpointName=endpoint_name)\n",
    "finally:\n",
    "    resp = sagemaker.describe_endpoint(EndpointName=endpoint_name)\n",
    "    status = resp['EndpointStatus']\n",
    "    print(\"Arn: \" + resp['EndpointArn'])\n",
    "    print(\"Create endpoint ended with status: \" + status)\n",
    "\n",
    "    if status != 'InService':\n",
    "        message = sagemaker.describe_endpoint(EndpointName=endpoint_name)['FailureReason']\n",
    "        print('Training failed with the following error: {}'.format(message))\n",
    "        raise Exception('Endpoint creation did not succeed')"
   ]
  },
  {
   "cell_type": "code",
   "execution_count": 157,
   "metadata": {},
   "outputs": [
    {
     "name": "stdout",
     "output_type": "stream",
     "text": [
      "   idx                    dog_name\n",
      "0   72                  schipperke\n",
      "1   14     black-and-tan_coonhound\n",
      "2   58    Chesapeake_Bay_retriever\n",
      "3   32          Kerry_blue_terrier\n",
      "4   93             Tibetan_mastiff\n",
      "5   87  Greater_Swiss_Mountain_dog\n",
      "6  100               affenpinscher\n",
      "7   45         miniature_schnauzer\n",
      "8   63               Gordon_setter\n",
      "9   79           Shetland_sheepdog\n",
      "    idx          dog_name\n",
      "35    5  Blenheim_spaniel\n"
     ]
    }
   ],
   "source": [
    "#-- Redundant\n",
    "# Create an array of dogs from train or validation list (*.lst) file\n",
    "# > cp dog_train.lst /tmp/.; cd /tmp ; cut -f2,3 > dog_index_map.txt  # retain only 2nd and 3rd columns \n",
    "# > vim dog_index_map.txt  # remove float format :1,$s/\\.000000// and then prefix and suffix in 3rd column\n",
    "#      :1,$s/n02\\d\\+\\-// and then 1,$s/n02\\d\\+_\\d\\+.jpg// and save  \n",
    "# File has 16474 entries (one line for each image)\n",
    "# > cat dog_index_map.txt | sort | uniq | sort -n | cut -f2 > dog_names.txt\n",
    "#\n",
    "# > aws s3 cp dog_test/dog_names.txt  s3://[BUCKET]/stanford_dogs/test/dog_names.txt\n",
    "\n",
    "#- Read dog-names files and create an array\n",
    "#- local_file = '/tmp/dog_names.txt'\n",
    "#- remote_file = 'dog_names.txt'\n",
    "#- s3 = boto3.resource('s3')\n",
    "#- s3.Bucket('[BUCKET]').download_file('stanford_dogs_2/test/'+remote_file, local_file)\n",
    "#- dog_names = None\n",
    "#- with open(local_file, 'r') as f:\n",
    "#-     dog_names = f.read().split()\n",
    "#- print(dog_names)\n",
    "\n",
    "\n",
    "### dogname array from list/dataframe\n",
    "print(df.head(10))\n",
    "print(df.loc[df['idx'] == 5])\n",
    "#----"
   ]
  },
  {
   "cell_type": "markdown",
   "metadata": {},
   "source": [
    "### 10. Run tests"
   ]
  },
  {
   "cell_type": "code",
   "execution_count": 167,
   "metadata": {},
   "outputs": [],
   "source": [
    "# Perform inference....\n",
    "import boto3\n",
    "runtime = boto3.Session().client(service_name='runtime.sagemaker')"
   ]
  },
  {
   "cell_type": "code",
   "execution_count": 186,
   "metadata": {},
   "outputs": [
    {
     "data": {
      "image/jpeg": "[encoded data removed]",
      "text/plain": [
       "<IPython.core.display.Image object>"
      ]
     },
     "execution_count": 186,
     "metadata": {},
     "output_type": "execute_result"
    }
   ],
   "source": [
    "from IPython.display import Image\n",
    "\n",
    "local_file = '/tmp/test_dog.jpg'\n",
    "# remote_file = 'Siberian-risky-n02110185_9975.jpg'\n",
    "# remote_file = 'Images/n02086646-Blenheim_spaniel/n02086646_4045.jpg'       # 99%\n",
    "# remote_file = 'Images/n02093991-Irish_terrier/n02093991_1635.jpg'          # 69%\n",
    "# remote_file = 'Images/n02116738-African_hunting_dog/n02116738_9603.jpg'    # 98%\n",
    "# remote_file = 'Images/n02095314-wire-haired_fox_terrier/n02095314_227.jpg' # 90%\n",
    "s3 = boto3.resource('s3')\n",
    "s3.Bucket('[BUCKET]').download_file('stanford_dogs_2/test/'+remote_file, local_file)\n",
    "Image(local_file)"
   ]
  },
  {
   "cell_type": "code",
   "execution_count": 187,
   "metadata": {},
   "outputs": [
    {
     "name": "stdout",
     "output_type": "stream",
     "text": [
      "Index:  5\n",
      "Input dog filename - Images/n02086646-Blenheim_spaniel/n02086646_4045.jpg\n",
      "Identified dog/label - Blenheim_spaniel\n",
      "Probability - 0.9881858825683594\n"
     ]
    }
   ],
   "source": [
    "import json\n",
    "import numpy as np\n",
    "with open(local_file, 'rb') as f:\n",
    "    payload = f.read()\n",
    "    payload = bytearray(payload)\n",
    "response = runtime.invoke_endpoint(EndpointName=endpoint_name, \n",
    "                                   ContentType='application/x-image', \n",
    "                                   Body=payload)\n",
    "result = response['Body'].read()\n",
    "# result will be in json format and convert it to ndarray\n",
    "result = json.loads(result)\n",
    "# the result will output the probabilities for all classes\n",
    "# find the class with maximum probability and print the class index\n",
    "index = np.argmax(result)\n",
    "# print('Result: ', '\\n'.join([str(x) for x in enumerate(result)]))\n",
    "print('Index: ', index)\n",
    "# print(\"Result: label - \" + dog_names[index] + \", probability - \" + str(result[index]))\n",
    "print(\"Input dog filename - \" + remote_file)\n",
    "print(\"Identified dog/label - \" + df.loc[df['idx'] == index, 'dog_name'].iloc[0]) \n",
    "print(\"Probability - \" + str(result[index]))"
   ]
  },
  {
   "cell_type": "markdown",
   "metadata": {},
   "source": [
    "### 11. Delete the stack"
   ]
  },
  {
   "cell_type": "code",
   "execution_count": 188,
   "metadata": {},
   "outputs": [
    {
     "data": {
      "text/plain": [
       "{'ResponseMetadata': {'RequestId': 'b102da36-5da3-4387-92c0-dfae67dafc04',\n",
       "  'HTTPStatusCode': 200,\n",
       "  'HTTPHeaders': {'x-amzn-requestid': 'b102da36-5da3-4387-92c0-dfae67dafc04',\n",
       "   'content-type': 'application/x-amz-json-1.1',\n",
       "   'content-length': '0',\n",
       "   'date': 'Wed, 01 Aug 2018 00:24:16 GMT'},\n",
       "  'RetryAttempts': 0}}"
      ]
     },
     "execution_count": 188,
     "metadata": {},
     "output_type": "execute_result"
    }
   ],
   "source": [
    "sage.delete_endpoint(EndpointName=endpoint_name)"
   ]
  },
  {
   "cell_type": "code",
   "execution_count": null,
   "metadata": {},
   "outputs": [],
   "source": []
  }
 ],
 "metadata": {
  "kernelspec": {
   "display_name": "Python 3",
   "language": "python",
   "name": "python3"
  },
  "language_info": {
   "codemirror_mode": {
    "name": "ipython",
    "version": 3
   },
   "file_extension": ".py",
   "mimetype": "text/x-python",
   "name": "python",
   "nbconvert_exporter": "python",
   "pygments_lexer": "ipython3",
   "version": "3.6.4"
  }
 },
 "nbformat": 4,
 "nbformat_minor": 2
}
